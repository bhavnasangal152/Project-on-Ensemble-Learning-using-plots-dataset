{
 "cells": [
  {
   "cell_type": "code",
   "execution_count": null,
   "id": "286ae9e0",
   "metadata": {},
   "outputs": [],
   "source": [
    "#1. Background- Ensemble Learning is the process by which multiple models (classifiers or experts), are strategically generated \n",
    "#and combined. When combined they provide a solution to a particular computational intelligence problem.\n",
    "#It is primarily used to improve the performance of a model, or reduce the likelihood of an unfortunate \n",
    "# selection of a poor one."
   ]
  },
  {
   "cell_type": "code",
   "execution_count": null,
   "id": "2cb84865",
   "metadata": {},
   "outputs": [],
   "source": [
    "#2. Problem Statement- \n",
    "#Property Hall is a Canadian real estate company that facilitates a transaction between the buyers and sellers of property.\n",
    "#The company's revenue is down for the past three months and they want to identify its root cause.\n",
    "#They are looking for an automatic way to detect unusual behavior in their revenue.\n",
    "#The company already has access to the data of houses in the city of Windsor.\n",
    "#The unusual behaviour need to be identified"
   ]
  },
  {
   "cell_type": "code",
   "execution_count": 68,
   "id": "861b39c3",
   "metadata": {},
   "outputs": [],
   "source": [
    "#3. Installing and Importing Libraries\n",
    "\n",
    "#Installing Libraries\n",
    "!pip install -q datascience                                         # Package that is required by pandas profiling\n",
    "#!pip install -q pandas-profiling                                    # Library to generate basic statistics about data\n",
    "!pip install -q yellowbrick                                         # Toolbox for Measuring Machine Performance "
   ]
  },
  {
   "cell_type": "code",
   "execution_count": 65,
   "id": "a9afeed5",
   "metadata": {},
   "outputs": [],
   "source": [
    "#Upgrading Libraries\n",
    "#!pip install -q --upgrade pandas-profiling\n",
    "!pip install -q --upgrade yellowbrick"
   ]
  },
  {
   "cell_type": "code",
   "execution_count": 197,
   "id": "17f53a0e",
   "metadata": {},
   "outputs": [],
   "source": [
    "#Importing Libraries\n",
    "import pandas as pd                                                 # Importing for panel data analysis\n",
    "#from pandas_profiling import ProfileReport                          # Import Pandas Profiling (To generate Univariate Analysis) \n",
    "pd.set_option('display.max_columns', None)                          # Unfolding hidden features if the cardinality is high      \n",
    "pd.set_option('display.max_colwidth', None)                         # Unfolding the max feature width for better clearity      \n",
    "pd.set_option('display.max_rows', None)                             # Unfolding hidden data points if the cardinality is high\n",
    "pd.set_option('mode.chained_assignment', None)                      # Removing restriction over chained assignments operations\n",
    "pd.set_option('display.float_format', lambda x: '%.2f' % x)         # To suppress scientific notation over exponential values\n",
    "#--------------------------------------------------------------------------------------------------------------------\n",
    "\n",
    "import numpy as np                                                  # Importing package numpys (For Numerical Python)\n",
    "import matplotlib.pyplot as plt                                     # Importing pyplot interface using matplotlib                                              \n",
    "import seaborn as sns                                               # Importin seaborm library for interactive visualization\n",
    "%matplotlib inline\n",
    "\n",
    "#---------------------------------------------------------------------------------------------------------------------\\\n",
    "from sklearn.feature_selection import SelectFromModel               # To perform Feature Selection over model\n",
    "#from yellowbrick.model_selection import FeatureImportances          # To retrieve Feature Importances over model\n",
    "from sklearn.metrics import classification_report                   # To generate classification report of the model\n",
    "from sklearn.metrics import plot_confusion_matrix                   # To plot confusion matrix of the model\n",
    "\n",
    "#---------------------------------------------------------------------------------------------------------------------\n",
    "from sklearn.model_selection import train_test_split                # To perform train, test and split over the data\n",
    "from sklearn.linear_model import LogisticRegression                 # To perform modeling using LogisticRegression\n",
    "from sklearn.svm import SVC                                         # To perform modeling using SVC\n",
    "from sklearn.tree import DecisionTreeClassifier                     # To perform modeling using DecisionTreeClassifier\n",
    "from sklearn.ensemble import RandomForestClassifier                 # To perform modeling using RandomForestClassifier\n",
    "from sklearn.ensemble import VotingClassifier                       # To perform modeling using VotingClassifier\n",
    "from sklearn.ensemble import BaggingClassifier                      # To perform modeling using BaggingClassifier \n",
    "from sklearn.ensemble import AdaBoostClassifier                     # To perform modeling using AdaBoostClassifier\n",
    "from sklearn.ensemble import GradientBoostingClassifier             # To perform modeling using GradientBoostingClassifier\n",
    "from sklearn.neighbors import KNeighborsClassifier \n",
    "from sklearn.ensemble import StackingClassifier\n",
    "\n",
    "#---------------------------------------------------------------------------------------------------------------------\n",
    "import warnings                                                     # Importing warning to disable runtime warnings\n",
    "warnings.filterwarnings(\"ignore\")                                   # Warnings will appear only once\n"
   ]
  },
  {
   "cell_type": "code",
   "execution_count": null,
   "id": "50600631",
   "metadata": {},
   "outputs": [],
   "source": [
    "#4. Data Acquisition and Description\n",
    "\n",
    "#The dataset is based on real estate provided by Property Hall.\n",
    "\n",
    "#Id\tFeatures\tDescription\n",
    "#01\tprice\tSale price of a house.\n",
    "#02\tlotsize\tThe lot size of a property in square feet.\n",
    "#03\tbedrooms\tNumber of bedrooms.\n",
    "#04\tbathrms\tNumber of bathrooms.\n",
    "#05\tstories\tNumber of stories excluding basement.\n",
    "#06\tdriveway\tDoes the house has a driveway?\n",
    "#07\trecroom\tDoes the house has a recreational room?\n",
    "#08\tfullbase\tDoes the house has a full finished basement?\n",
    "#09\tgashw\tDoes the house uses gas for hot water heating?\n",
    "#10\tairco\tDoes the house has central air conditioning?\n",
    "#11\tgaragepl\tNumber of garage places.\n",
    "#12\tprefarea\tIs the house located in the preferred neighbourhood of the city?\n"
   ]
  },
  {
   "cell_type": "code",
   "execution_count": 198,
   "id": "a78cb9db",
   "metadata": {},
   "outputs": [
    {
     "data": {
      "text/html": [
       "<div>\n",
       "<style scoped>\n",
       "    .dataframe tbody tr th:only-of-type {\n",
       "        vertical-align: middle;\n",
       "    }\n",
       "\n",
       "    .dataframe tbody tr th {\n",
       "        vertical-align: top;\n",
       "    }\n",
       "\n",
       "    .dataframe thead th {\n",
       "        text-align: right;\n",
       "    }\n",
       "</style>\n",
       "<table border=\"1\" class=\"dataframe\">\n",
       "  <thead>\n",
       "    <tr style=\"text-align: right;\">\n",
       "      <th></th>\n",
       "      <th>price</th>\n",
       "      <th>lotsize</th>\n",
       "      <th>bedrooms</th>\n",
       "      <th>bathrms</th>\n",
       "      <th>stories</th>\n",
       "      <th>driveway</th>\n",
       "      <th>recroom</th>\n",
       "      <th>fullbase</th>\n",
       "      <th>gashw</th>\n",
       "      <th>airco</th>\n",
       "      <th>garagepl</th>\n",
       "      <th>prefarea</th>\n",
       "    </tr>\n",
       "  </thead>\n",
       "  <tbody>\n",
       "    <tr>\n",
       "      <th>0</th>\n",
       "      <td>42000.00</td>\n",
       "      <td>5850</td>\n",
       "      <td>3</td>\n",
       "      <td>1</td>\n",
       "      <td>2</td>\n",
       "      <td>yes</td>\n",
       "      <td>no</td>\n",
       "      <td>yes</td>\n",
       "      <td>no</td>\n",
       "      <td>no</td>\n",
       "      <td>1</td>\n",
       "      <td>no</td>\n",
       "    </tr>\n",
       "    <tr>\n",
       "      <th>1</th>\n",
       "      <td>38500.00</td>\n",
       "      <td>4000</td>\n",
       "      <td>2</td>\n",
       "      <td>1</td>\n",
       "      <td>1</td>\n",
       "      <td>yes</td>\n",
       "      <td>no</td>\n",
       "      <td>no</td>\n",
       "      <td>no</td>\n",
       "      <td>no</td>\n",
       "      <td>0</td>\n",
       "      <td>no</td>\n",
       "    </tr>\n",
       "    <tr>\n",
       "      <th>2</th>\n",
       "      <td>49500.00</td>\n",
       "      <td>3060</td>\n",
       "      <td>3</td>\n",
       "      <td>1</td>\n",
       "      <td>1</td>\n",
       "      <td>yes</td>\n",
       "      <td>no</td>\n",
       "      <td>no</td>\n",
       "      <td>no</td>\n",
       "      <td>no</td>\n",
       "      <td>0</td>\n",
       "      <td>no</td>\n",
       "    </tr>\n",
       "    <tr>\n",
       "      <th>3</th>\n",
       "      <td>60500.00</td>\n",
       "      <td>6650</td>\n",
       "      <td>3</td>\n",
       "      <td>1</td>\n",
       "      <td>2</td>\n",
       "      <td>yes</td>\n",
       "      <td>yes</td>\n",
       "      <td>no</td>\n",
       "      <td>no</td>\n",
       "      <td>no</td>\n",
       "      <td>0</td>\n",
       "      <td>no</td>\n",
       "    </tr>\n",
       "    <tr>\n",
       "      <th>4</th>\n",
       "      <td>61000.00</td>\n",
       "      <td>6360</td>\n",
       "      <td>2</td>\n",
       "      <td>1</td>\n",
       "      <td>1</td>\n",
       "      <td>yes</td>\n",
       "      <td>no</td>\n",
       "      <td>no</td>\n",
       "      <td>no</td>\n",
       "      <td>no</td>\n",
       "      <td>0</td>\n",
       "      <td>no</td>\n",
       "    </tr>\n",
       "  </tbody>\n",
       "</table>\n",
       "</div>"
      ],
      "text/plain": [
       "     price  lotsize  bedrooms  bathrms  stories driveway recroom fullbase  \\\n",
       "0 42000.00     5850         3        1        2      yes      no      yes   \n",
       "1 38500.00     4000         2        1        1      yes      no       no   \n",
       "2 49500.00     3060         3        1        1      yes      no       no   \n",
       "3 60500.00     6650         3        1        2      yes     yes       no   \n",
       "4 61000.00     6360         2        1        1      yes      no       no   \n",
       "\n",
       "  gashw airco  garagepl prefarea  \n",
       "0    no    no         1       no  \n",
       "1    no    no         0       no  \n",
       "2    no    no         0       no  \n",
       "3    no    no         0       no  \n",
       "4    no    no         0       no  "
      ]
     },
     "execution_count": 198,
     "metadata": {},
     "output_type": "execute_result"
    }
   ],
   "source": [
    "data = pd.read_csv(filepath_or_buffer='https://raw.githubusercontent.com/insaid2018/Term-4/master/Data/Housing.csv')\n",
    "\n",
    "data.head()"
   ]
  },
  {
   "cell_type": "code",
   "execution_count": 199,
   "id": "e416c9c5",
   "metadata": {},
   "outputs": [
    {
     "data": {
      "text/plain": [
       "(546, 12)"
      ]
     },
     "execution_count": 199,
     "metadata": {},
     "output_type": "execute_result"
    }
   ],
   "source": [
    "data.shape"
   ]
  },
  {
   "cell_type": "code",
   "execution_count": 200,
   "id": "2d127058",
   "metadata": {},
   "outputs": [
    {
     "name": "stdout",
     "output_type": "stream",
     "text": [
      "<class 'pandas.core.frame.DataFrame'>\n",
      "RangeIndex: 546 entries, 0 to 545\n",
      "Data columns (total 12 columns):\n",
      " #   Column    Non-Null Count  Dtype  \n",
      "---  ------    --------------  -----  \n",
      " 0   price     546 non-null    float64\n",
      " 1   lotsize   546 non-null    int64  \n",
      " 2   bedrooms  546 non-null    int64  \n",
      " 3   bathrms   546 non-null    int64  \n",
      " 4   stories   546 non-null    int64  \n",
      " 5   driveway  546 non-null    object \n",
      " 6   recroom   546 non-null    object \n",
      " 7   fullbase  546 non-null    object \n",
      " 8   gashw     546 non-null    object \n",
      " 9   airco     546 non-null    object \n",
      " 10  garagepl  546 non-null    int64  \n",
      " 11  prefarea  546 non-null    object \n",
      "dtypes: float64(1), int64(5), object(6)\n",
      "memory usage: 51.3+ KB\n"
     ]
    }
   ],
   "source": [
    "data.info()"
   ]
  },
  {
   "cell_type": "code",
   "execution_count": 201,
   "id": "c0020574",
   "metadata": {},
   "outputs": [
    {
     "data": {
      "text/html": [
       "<div>\n",
       "<style scoped>\n",
       "    .dataframe tbody tr th:only-of-type {\n",
       "        vertical-align: middle;\n",
       "    }\n",
       "\n",
       "    .dataframe tbody tr th {\n",
       "        vertical-align: top;\n",
       "    }\n",
       "\n",
       "    .dataframe thead th {\n",
       "        text-align: right;\n",
       "    }\n",
       "</style>\n",
       "<table border=\"1\" class=\"dataframe\">\n",
       "  <thead>\n",
       "    <tr style=\"text-align: right;\">\n",
       "      <th></th>\n",
       "      <th>price</th>\n",
       "      <th>lotsize</th>\n",
       "      <th>bedrooms</th>\n",
       "      <th>bathrms</th>\n",
       "      <th>stories</th>\n",
       "      <th>garagepl</th>\n",
       "    </tr>\n",
       "  </thead>\n",
       "  <tbody>\n",
       "    <tr>\n",
       "      <th>count</th>\n",
       "      <td>546.00</td>\n",
       "      <td>546.00</td>\n",
       "      <td>546.00</td>\n",
       "      <td>546.00</td>\n",
       "      <td>546.00</td>\n",
       "      <td>546.00</td>\n",
       "    </tr>\n",
       "    <tr>\n",
       "      <th>mean</th>\n",
       "      <td>68121.60</td>\n",
       "      <td>5150.27</td>\n",
       "      <td>2.97</td>\n",
       "      <td>1.29</td>\n",
       "      <td>1.81</td>\n",
       "      <td>0.69</td>\n",
       "    </tr>\n",
       "    <tr>\n",
       "      <th>std</th>\n",
       "      <td>26702.67</td>\n",
       "      <td>2168.16</td>\n",
       "      <td>0.74</td>\n",
       "      <td>0.50</td>\n",
       "      <td>0.87</td>\n",
       "      <td>0.86</td>\n",
       "    </tr>\n",
       "    <tr>\n",
       "      <th>min</th>\n",
       "      <td>25000.00</td>\n",
       "      <td>1650.00</td>\n",
       "      <td>1.00</td>\n",
       "      <td>1.00</td>\n",
       "      <td>1.00</td>\n",
       "      <td>0.00</td>\n",
       "    </tr>\n",
       "    <tr>\n",
       "      <th>25%</th>\n",
       "      <td>49125.00</td>\n",
       "      <td>3600.00</td>\n",
       "      <td>2.00</td>\n",
       "      <td>1.00</td>\n",
       "      <td>1.00</td>\n",
       "      <td>0.00</td>\n",
       "    </tr>\n",
       "    <tr>\n",
       "      <th>50%</th>\n",
       "      <td>62000.00</td>\n",
       "      <td>4600.00</td>\n",
       "      <td>3.00</td>\n",
       "      <td>1.00</td>\n",
       "      <td>2.00</td>\n",
       "      <td>0.00</td>\n",
       "    </tr>\n",
       "    <tr>\n",
       "      <th>75%</th>\n",
       "      <td>82000.00</td>\n",
       "      <td>6360.00</td>\n",
       "      <td>3.00</td>\n",
       "      <td>2.00</td>\n",
       "      <td>2.00</td>\n",
       "      <td>1.00</td>\n",
       "    </tr>\n",
       "    <tr>\n",
       "      <th>max</th>\n",
       "      <td>190000.00</td>\n",
       "      <td>16200.00</td>\n",
       "      <td>6.00</td>\n",
       "      <td>4.00</td>\n",
       "      <td>4.00</td>\n",
       "      <td>3.00</td>\n",
       "    </tr>\n",
       "  </tbody>\n",
       "</table>\n",
       "</div>"
      ],
      "text/plain": [
       "          price  lotsize  bedrooms  bathrms  stories  garagepl\n",
       "count    546.00   546.00    546.00   546.00   546.00    546.00\n",
       "mean   68121.60  5150.27      2.97     1.29     1.81      0.69\n",
       "std    26702.67  2168.16      0.74     0.50     0.87      0.86\n",
       "min    25000.00  1650.00      1.00     1.00     1.00      0.00\n",
       "25%    49125.00  3600.00      2.00     1.00     1.00      0.00\n",
       "50%    62000.00  4600.00      3.00     1.00     2.00      0.00\n",
       "75%    82000.00  6360.00      3.00     2.00     2.00      1.00\n",
       "max   190000.00 16200.00      6.00     4.00     4.00      3.00"
      ]
     },
     "execution_count": 201,
     "metadata": {},
     "output_type": "execute_result"
    }
   ],
   "source": [
    "data.describe()\n",
    "\n",
    "#The data for variable price of house, lotsize of the property are skewed as the value of mean and the \n",
    "# value at 50% of the houses are different"
   ]
  },
  {
   "cell_type": "code",
   "execution_count": 27,
   "id": "c42998be",
   "metadata": {},
   "outputs": [],
   "source": [
    "#5. Data Pre-processing\n",
    "\n",
    "#profile = ProfileReport(df = data)\n",
    "#profile.to_file(output_file = 'Pre Profiling Report.html')\n",
    "#print('Accomplished!')\n"
   ]
  },
  {
   "cell_type": "code",
   "execution_count": 202,
   "id": "640c6d5d",
   "metadata": {},
   "outputs": [
    {
     "data": {
      "text/plain": [
       "545"
      ]
     },
     "execution_count": 202,
     "metadata": {},
     "output_type": "execute_result"
    }
   ],
   "source": [
    "#checking duplicates\n",
    "\n",
    "data.isnull().duplicated().sum()"
   ]
  },
  {
   "cell_type": "code",
   "execution_count": 203,
   "id": "d6652798",
   "metadata": {},
   "outputs": [],
   "source": [
    "data.drop_duplicates(inplace=True)"
   ]
  },
  {
   "cell_type": "code",
   "execution_count": 204,
   "id": "9770f1ad",
   "metadata": {},
   "outputs": [
    {
     "data": {
      "text/plain": [
       "(545, 12)"
      ]
     },
     "execution_count": 204,
     "metadata": {},
     "output_type": "execute_result"
    }
   ],
   "source": [
    "data.shape"
   ]
  },
  {
   "cell_type": "code",
   "execution_count": null,
   "id": "7dc6ab61",
   "metadata": {},
   "outputs": [],
   "source": [
    "#6. Exploratory Data Analysis"
   ]
  },
  {
   "cell_type": "code",
   "execution_count": 134,
   "id": "f60f47c5",
   "metadata": {},
   "outputs": [
    {
     "data": {
      "image/png": "[encoded data removed]",
      "text/plain": [
       "<Figure size 1500x700 with 4 Axes>"
      ]
     },
     "metadata": {},
     "output_type": "display_data"
    }
   ],
   "source": [
    "#Association of bedrooms, bathrooms, stories, and garage place concerning price\n",
    "\n",
    "colors_list = ['gold', 'yellowgreen', 'lightcoral', 'lightskyblue', 'lightgreen', 'red']\n",
    "figure = plt.figure(figsize = [15, 7])\n",
    "\n",
    "# Price vs Bedrooms\n",
    "plt.subplot(2, 2, 1)\n",
    "sns.barplot(x='bedrooms', y='price', data=data, color='#DB5F57', ci=False)\n",
    "plt.xlabel('Bedrooms', size = 14)\n",
    "plt.ylabel('Price', size = 14)\n",
    "plt.title('Price vs Bedrooms', size = 16)\n",
    "\n",
    "# Price vs bathrooms\n",
    "plt.subplot(2, 2, 2)\n",
    "sns.barplot(x='bathrms', y='price', data=data, color='lightskyblue', ci=False)\n",
    "plt.xlabel('Bathrooms', size = 14)\n",
    "plt.ylabel('Price', size = 14)\n",
    "plt.title('Price vs Bathrooms', size = 16)\n",
    "\n",
    "# Price vs stories\n",
    "plt.subplot(2, 2, 3)\n",
    "sns.barplot(x='stories', y='price', data=data, color='#DBC257', ci=False)\n",
    "plt.xlabel('Stories', size = 14)\n",
    "plt.ylabel('Price', size = 14)\n",
    "plt.title('Price vs Stories', size = 16)\n",
    "\n",
    "# Price vs garagepl\n",
    "plt.subplot(2, 2, 4)\n",
    "sns.barplot(x='garagepl', y='price', data=data, color='lightgreen', ci=False)\n",
    "plt.xlabel('Garage Places', size = 14)\n",
    "plt.ylabel('Price', size = 14)\n",
    "plt.title('Price vs Garage Places', size = 16)\n",
    "plt.tight_layout()\n",
    "plt.show()\n",
    "\n",
    "#The price increases with increase in bathrooms, stories, garage place and bedrooms(except for 6 bedrooms\n",
    "#when it decreases.)"
   ]
  },
  {
   "cell_type": "code",
   "execution_count": 135,
   "id": "eeebe4fa",
   "metadata": {},
   "outputs": [
    {
     "data": {
      "image/png": "[encoded data removed]",
      "text/plain": [
       "<Figure size 1500x700 with 6 Axes>"
      ]
     },
     "metadata": {},
     "output_type": "display_data"
    }
   ],
   "source": [
    "#Checking the proportion of the variables:- drive way, recreational room, full finished basement, gas hot water, air conditioning, \n",
    "#preferred area\n",
    "\n",
    "# Subplot for Drive Way\n",
    "plt.subplot(2, 3, 1)\n",
    "space = np.ones(2)/10\n",
    "data['driveway'].value_counts().plot(kind='pie', explode=space, fontsize=14, \n",
    "                                           autopct='%3.1f%%', wedgeprops=dict(width = 0.15), \n",
    "                                           shadow=True, startangle=160, figsize=[15, 7], \n",
    "                                           legend=True, labels=['', ''])\n",
    "plt.legend(['Yes', 'No'])\n",
    "plt.ylabel('Drive Way', size = 14)\n",
    "\n",
    "# Subplot for recreational room\n",
    "plt.subplot(2, 3, 2)\n",
    "space = np.ones(2)/10\n",
    "data['recroom'].value_counts().plot(kind='pie', explode=space, fontsize=14, \n",
    "                                           autopct='%3.1f%%', wedgeprops=dict(width = 0.15), \n",
    "                                           shadow=True, startangle=160, figsize=[15, 7], \n",
    "                                           legend=True, labels=['', ''])\n",
    "plt.legend(['No', 'Yes'])\n",
    "plt.ylabel('Recreational Room', size = 14)\n",
    "\n",
    "# Subplot for full finished basement\n",
    "plt.subplot(2, 3, 3)\n",
    "space = np.ones(2)/10\n",
    "data['fullbase'].value_counts().plot(kind='pie', explode=space, fontsize=14, \n",
    "                                           autopct='%3.1f%%', wedgeprops=dict(width = 0.15), \n",
    "                                           shadow=True, startangle=160, figsize=[15, 7], \n",
    "                                           legend=True, labels=['', ''])\n",
    "plt.legend(['No', 'Yes'])\n",
    "plt.ylabel('Full Finished Basement', size = 14)\n",
    "\n",
    "# Subplot for gas for hot water heating\n",
    "plt.subplot(2, 3, 4)\n",
    "space = np.ones(2)/10\n",
    "data['gashw'].value_counts().plot(kind='pie', explode=space, fontsize=14, \n",
    "                                           autopct='%3.1f%%', wedgeprops=dict(width = 0.15), \n",
    "                                           shadow=True, startangle=160, figsize=[15, 7], \n",
    "                                           legend=True, labels=['', ''])\n",
    "plt.legend(['No', 'Yes'])\n",
    "plt.ylabel('Gas for Hot Water', size = 14)\n",
    "\n",
    "# Subplot for air conditioning\n",
    "plt.subplot(2, 3, 5)\n",
    "space = np.ones(2)/10\n",
    "data['airco'].value_counts().plot(kind='pie', explode=space, fontsize=14, \n",
    "                                           autopct='%3.1f%%', wedgeprops=dict(width = 0.15), \n",
    "                                           shadow=True, startangle=160, figsize=[15, 7], \n",
    "                                           legend=True, labels=['', ''])\n",
    "plt.legend(['No', 'Yes'])\n",
    "plt.ylabel('Air Conditioning', size = 14)\n",
    "\n",
    "# Subplot for preferred area\n",
    "plt.subplot(2, 3, 6)\n",
    "space = np.ones(2)/10\n",
    "data['prefarea'].value_counts().plot(kind='pie', explode=space, fontsize=14, \n",
    "                                           autopct='%3.1f%%', wedgeprops=dict(width = 0.15), \n",
    "                                           shadow=True, startangle=160, figsize=[15, 7], \n",
    "                                           legend=True, labels=['', ''])\n",
    "plt.legend(['No', 'Yes'])\n",
    "plt.ylabel('Preferred Area', size = 14)\n",
    "plt.tight_layout()\n",
    "plt.show()\n",
    "\n",
    "#Fully furnished basement is available for 35% of the apartments, while only 4.6% of them had gas for hot water."
   ]
  },
  {
   "cell_type": "code",
   "execution_count": null,
   "id": "0647fd69",
   "metadata": {},
   "outputs": [],
   "source": [
    "#7.Post Data Processing and Feature selection\n",
    "\n",
    "# In this section, we will perform transformation of categorical features to numeric using get_dummies().\n",
    "#We can observe that features such as driveway, recroom, fullbase, gashw, airco, prefarea are having binary values."
   ]
  },
  {
   "cell_type": "code",
   "execution_count": 205,
   "id": "9f59abff",
   "metadata": {},
   "outputs": [
    {
     "data": {
      "text/html": [
       "<div>\n",
       "<style scoped>\n",
       "    .dataframe tbody tr th:only-of-type {\n",
       "        vertical-align: middle;\n",
       "    }\n",
       "\n",
       "    .dataframe tbody tr th {\n",
       "        vertical-align: top;\n",
       "    }\n",
       "\n",
       "    .dataframe thead th {\n",
       "        text-align: right;\n",
       "    }\n",
       "</style>\n",
       "<table border=\"1\" class=\"dataframe\">\n",
       "  <thead>\n",
       "    <tr style=\"text-align: right;\">\n",
       "      <th></th>\n",
       "      <th>price</th>\n",
       "      <th>lotsize</th>\n",
       "      <th>bedrooms</th>\n",
       "      <th>bathrms</th>\n",
       "      <th>stories</th>\n",
       "      <th>garagepl</th>\n",
       "      <th>driveway_no</th>\n",
       "      <th>driveway_yes</th>\n",
       "      <th>recroom_no</th>\n",
       "      <th>recroom_yes</th>\n",
       "      <th>fullbase_no</th>\n",
       "      <th>fullbase_yes</th>\n",
       "      <th>gashw_no</th>\n",
       "      <th>gashw_yes</th>\n",
       "      <th>airco_no</th>\n",
       "      <th>airco_yes</th>\n",
       "      <th>prefarea_no</th>\n",
       "      <th>prefarea_yes</th>\n",
       "    </tr>\n",
       "  </thead>\n",
       "  <tbody>\n",
       "    <tr>\n",
       "      <th>0</th>\n",
       "      <td>42000.00</td>\n",
       "      <td>5850</td>\n",
       "      <td>3</td>\n",
       "      <td>1</td>\n",
       "      <td>2</td>\n",
       "      <td>1</td>\n",
       "      <td>0</td>\n",
       "      <td>1</td>\n",
       "      <td>1</td>\n",
       "      <td>0</td>\n",
       "      <td>0</td>\n",
       "      <td>1</td>\n",
       "      <td>1</td>\n",
       "      <td>0</td>\n",
       "      <td>1</td>\n",
       "      <td>0</td>\n",
       "      <td>1</td>\n",
       "      <td>0</td>\n",
       "    </tr>\n",
       "    <tr>\n",
       "      <th>1</th>\n",
       "      <td>38500.00</td>\n",
       "      <td>4000</td>\n",
       "      <td>2</td>\n",
       "      <td>1</td>\n",
       "      <td>1</td>\n",
       "      <td>0</td>\n",
       "      <td>0</td>\n",
       "      <td>1</td>\n",
       "      <td>1</td>\n",
       "      <td>0</td>\n",
       "      <td>1</td>\n",
       "      <td>0</td>\n",
       "      <td>1</td>\n",
       "      <td>0</td>\n",
       "      <td>1</td>\n",
       "      <td>0</td>\n",
       "      <td>1</td>\n",
       "      <td>0</td>\n",
       "    </tr>\n",
       "    <tr>\n",
       "      <th>2</th>\n",
       "      <td>49500.00</td>\n",
       "      <td>3060</td>\n",
       "      <td>3</td>\n",
       "      <td>1</td>\n",
       "      <td>1</td>\n",
       "      <td>0</td>\n",
       "      <td>0</td>\n",
       "      <td>1</td>\n",
       "      <td>1</td>\n",
       "      <td>0</td>\n",
       "      <td>1</td>\n",
       "      <td>0</td>\n",
       "      <td>1</td>\n",
       "      <td>0</td>\n",
       "      <td>1</td>\n",
       "      <td>0</td>\n",
       "      <td>1</td>\n",
       "      <td>0</td>\n",
       "    </tr>\n",
       "    <tr>\n",
       "      <th>3</th>\n",
       "      <td>60500.00</td>\n",
       "      <td>6650</td>\n",
       "      <td>3</td>\n",
       "      <td>1</td>\n",
       "      <td>2</td>\n",
       "      <td>0</td>\n",
       "      <td>0</td>\n",
       "      <td>1</td>\n",
       "      <td>0</td>\n",
       "      <td>1</td>\n",
       "      <td>1</td>\n",
       "      <td>0</td>\n",
       "      <td>1</td>\n",
       "      <td>0</td>\n",
       "      <td>1</td>\n",
       "      <td>0</td>\n",
       "      <td>1</td>\n",
       "      <td>0</td>\n",
       "    </tr>\n",
       "    <tr>\n",
       "      <th>4</th>\n",
       "      <td>61000.00</td>\n",
       "      <td>6360</td>\n",
       "      <td>2</td>\n",
       "      <td>1</td>\n",
       "      <td>1</td>\n",
       "      <td>0</td>\n",
       "      <td>0</td>\n",
       "      <td>1</td>\n",
       "      <td>1</td>\n",
       "      <td>0</td>\n",
       "      <td>1</td>\n",
       "      <td>0</td>\n",
       "      <td>1</td>\n",
       "      <td>0</td>\n",
       "      <td>1</td>\n",
       "      <td>0</td>\n",
       "      <td>1</td>\n",
       "      <td>0</td>\n",
       "    </tr>\n",
       "  </tbody>\n",
       "</table>\n",
       "</div>"
      ],
      "text/plain": [
       "     price  lotsize  bedrooms  bathrms  stories  garagepl  driveway_no  \\\n",
       "0 42000.00     5850         3        1        2         1            0   \n",
       "1 38500.00     4000         2        1        1         0            0   \n",
       "2 49500.00     3060         3        1        1         0            0   \n",
       "3 60500.00     6650         3        1        2         0            0   \n",
       "4 61000.00     6360         2        1        1         0            0   \n",
       "\n",
       "   driveway_yes  recroom_no  recroom_yes  fullbase_no  fullbase_yes  gashw_no  \\\n",
       "0             1           1            0            0             1         1   \n",
       "1             1           1            0            1             0         1   \n",
       "2             1           1            0            1             0         1   \n",
       "3             1           0            1            1             0         1   \n",
       "4             1           1            0            1             0         1   \n",
       "\n",
       "   gashw_yes  airco_no  airco_yes  prefarea_no  prefarea_yes  \n",
       "0          0         1          0            1             0  \n",
       "1          0         1          0            1             0  \n",
       "2          0         1          0            1             0  \n",
       "3          0         1          0            1             0  \n",
       "4          0         1          0            1             0  "
      ]
     },
     "execution_count": 205,
     "metadata": {},
     "output_type": "execute_result"
    }
   ],
   "source": [
    "data = pd.get_dummies(data=data, columns=['driveway', 'recroom', 'fullbase', 'gashw', 'airco', 'prefarea'])\n",
    "\n",
    "data.head()"
   ]
  },
  {
   "cell_type": "code",
   "execution_count": null,
   "id": "bafa4c04",
   "metadata": {},
   "outputs": [],
   "source": [
    "#Before diving further, we will create a categorical feature using the price feature.\n",
    "#We will be performing ensemble methods on classes instead of numerical values"
   ]
  },
  {
   "cell_type": "code",
   "execution_count": 137,
   "id": "62d5874e",
   "metadata": {},
   "outputs": [
    {
     "data": {
      "image/png": "[encoded data removed]",
      "text/plain": [
       "<Figure size 640x480 with 1 Axes>"
      ]
     },
     "metadata": {},
     "output_type": "display_data"
    }
   ],
   "source": [
    "sns.distplot(data['price'])\n",
    "plt.axvline(data.price.mean(),color='black')\n",
    "plt.axvline(data.price.quantile(0.33), color='yellow')\n",
    "plt.axvline(data.price.quantile(0.66), color='yellow')\n",
    "plt.axvline(data.price.quantile(1.0), color='yellow')\n",
    "plt.axvline(data.price.median(), color='red')\n",
    "plt.show()\n",
    "\n",
    "#The price behind fist yellow line is low price, next is medium price and  area between second & last line\n",
    "#is high price"
   ]
  },
  {
   "cell_type": "code",
   "execution_count": 138,
   "id": "1717e478",
   "metadata": {},
   "outputs": [
    {
     "name": "stdout",
     "output_type": "stream",
     "text": [
      "52900.0 73000.0 190000.0\n"
     ]
    }
   ],
   "source": [
    "q1= data.price.quantile(0.33)\n",
    "q2= data.price.quantile(0.66)\n",
    "q3= data.price.quantile(1.0)\n",
    "print(q1, q2, q3)"
   ]
  },
  {
   "cell_type": "code",
   "execution_count": 206,
   "id": "9f9aedc0",
   "metadata": {},
   "outputs": [
    {
     "data": {
      "text/plain": [
       "High      184\n",
       "Low       181\n",
       "Medium    180\n",
       "Name: price_cat, dtype: int64"
      ]
     },
     "execution_count": 206,
     "metadata": {},
     "output_type": "execute_result"
    }
   ],
   "source": [
    "#making new variable for price\n",
    "\n",
    "data['price_cat'] = pd.cut(data.price, bins=[0,q1, q2, q3], labels=['Low', 'Medium', 'High'])\n",
    "\n",
    "data.price_cat.value_counts()\n",
    "\n"
   ]
  },
  {
   "cell_type": "code",
   "execution_count": 207,
   "id": "3d90fd88",
   "metadata": {},
   "outputs": [
    {
     "name": "stdout",
     "output_type": "stream",
     "text": [
      "<class 'pandas.core.frame.DataFrame'>\n",
      "Int64Index: 545 entries, 0 to 545\n",
      "Data columns (total 19 columns):\n",
      " #   Column        Non-Null Count  Dtype   \n",
      "---  ------        --------------  -----   \n",
      " 0   price         545 non-null    float64 \n",
      " 1   lotsize       545 non-null    int64   \n",
      " 2   bedrooms      545 non-null    int64   \n",
      " 3   bathrms       545 non-null    int64   \n",
      " 4   stories       545 non-null    int64   \n",
      " 5   garagepl      545 non-null    int64   \n",
      " 6   driveway_no   545 non-null    uint8   \n",
      " 7   driveway_yes  545 non-null    uint8   \n",
      " 8   recroom_no    545 non-null    uint8   \n",
      " 9   recroom_yes   545 non-null    uint8   \n",
      " 10  fullbase_no   545 non-null    uint8   \n",
      " 11  fullbase_yes  545 non-null    uint8   \n",
      " 12  gashw_no      545 non-null    uint8   \n",
      " 13  gashw_yes     545 non-null    uint8   \n",
      " 14  airco_no      545 non-null    uint8   \n",
      " 15  airco_yes     545 non-null    uint8   \n",
      " 16  prefarea_no   545 non-null    uint8   \n",
      " 17  prefarea_yes  545 non-null    uint8   \n",
      " 18  price_cat     545 non-null    category\n",
      "dtypes: category(1), float64(1), int64(5), uint8(12)\n",
      "memory usage: 36.9 KB\n"
     ]
    }
   ],
   "source": [
    "data.info()\n",
    "\n",
    "#We see that the frequency distribution of the price feature is approx. normal.\n",
    "#In such case, we can rely on accuracy as a metric to evaluate our model."
   ]
  },
  {
   "cell_type": "code",
   "execution_count": 208,
   "id": "0bee327c",
   "metadata": {},
   "outputs": [],
   "source": [
    "#dropping the variable price\n",
    "\n",
    "data.drop(['price'], axis=1, inplace=True)"
   ]
  },
  {
   "cell_type": "code",
   "execution_count": 209,
   "id": "3903052e",
   "metadata": {},
   "outputs": [
    {
     "data": {
      "text/html": [
       "<div>\n",
       "<style scoped>\n",
       "    .dataframe tbody tr th:only-of-type {\n",
       "        vertical-align: middle;\n",
       "    }\n",
       "\n",
       "    .dataframe tbody tr th {\n",
       "        vertical-align: top;\n",
       "    }\n",
       "\n",
       "    .dataframe thead th {\n",
       "        text-align: right;\n",
       "    }\n",
       "</style>\n",
       "<table border=\"1\" class=\"dataframe\">\n",
       "  <thead>\n",
       "    <tr style=\"text-align: right;\">\n",
       "      <th></th>\n",
       "      <th>lotsize</th>\n",
       "      <th>bedrooms</th>\n",
       "      <th>bathrms</th>\n",
       "      <th>stories</th>\n",
       "      <th>garagepl</th>\n",
       "      <th>driveway_no</th>\n",
       "      <th>driveway_yes</th>\n",
       "      <th>recroom_no</th>\n",
       "      <th>recroom_yes</th>\n",
       "      <th>fullbase_no</th>\n",
       "      <th>fullbase_yes</th>\n",
       "      <th>gashw_no</th>\n",
       "      <th>gashw_yes</th>\n",
       "      <th>airco_no</th>\n",
       "      <th>airco_yes</th>\n",
       "      <th>prefarea_no</th>\n",
       "      <th>prefarea_yes</th>\n",
       "      <th>price_cat</th>\n",
       "    </tr>\n",
       "  </thead>\n",
       "  <tbody>\n",
       "    <tr>\n",
       "      <th>0</th>\n",
       "      <td>5850</td>\n",
       "      <td>3</td>\n",
       "      <td>1</td>\n",
       "      <td>2</td>\n",
       "      <td>1</td>\n",
       "      <td>0</td>\n",
       "      <td>1</td>\n",
       "      <td>1</td>\n",
       "      <td>0</td>\n",
       "      <td>0</td>\n",
       "      <td>1</td>\n",
       "      <td>1</td>\n",
       "      <td>0</td>\n",
       "      <td>1</td>\n",
       "      <td>0</td>\n",
       "      <td>1</td>\n",
       "      <td>0</td>\n",
       "      <td>Low</td>\n",
       "    </tr>\n",
       "    <tr>\n",
       "      <th>1</th>\n",
       "      <td>4000</td>\n",
       "      <td>2</td>\n",
       "      <td>1</td>\n",
       "      <td>1</td>\n",
       "      <td>0</td>\n",
       "      <td>0</td>\n",
       "      <td>1</td>\n",
       "      <td>1</td>\n",
       "      <td>0</td>\n",
       "      <td>1</td>\n",
       "      <td>0</td>\n",
       "      <td>1</td>\n",
       "      <td>0</td>\n",
       "      <td>1</td>\n",
       "      <td>0</td>\n",
       "      <td>1</td>\n",
       "      <td>0</td>\n",
       "      <td>Low</td>\n",
       "    </tr>\n",
       "    <tr>\n",
       "      <th>2</th>\n",
       "      <td>3060</td>\n",
       "      <td>3</td>\n",
       "      <td>1</td>\n",
       "      <td>1</td>\n",
       "      <td>0</td>\n",
       "      <td>0</td>\n",
       "      <td>1</td>\n",
       "      <td>1</td>\n",
       "      <td>0</td>\n",
       "      <td>1</td>\n",
       "      <td>0</td>\n",
       "      <td>1</td>\n",
       "      <td>0</td>\n",
       "      <td>1</td>\n",
       "      <td>0</td>\n",
       "      <td>1</td>\n",
       "      <td>0</td>\n",
       "      <td>Low</td>\n",
       "    </tr>\n",
       "    <tr>\n",
       "      <th>3</th>\n",
       "      <td>6650</td>\n",
       "      <td>3</td>\n",
       "      <td>1</td>\n",
       "      <td>2</td>\n",
       "      <td>0</td>\n",
       "      <td>0</td>\n",
       "      <td>1</td>\n",
       "      <td>0</td>\n",
       "      <td>1</td>\n",
       "      <td>1</td>\n",
       "      <td>0</td>\n",
       "      <td>1</td>\n",
       "      <td>0</td>\n",
       "      <td>1</td>\n",
       "      <td>0</td>\n",
       "      <td>1</td>\n",
       "      <td>0</td>\n",
       "      <td>Medium</td>\n",
       "    </tr>\n",
       "    <tr>\n",
       "      <th>4</th>\n",
       "      <td>6360</td>\n",
       "      <td>2</td>\n",
       "      <td>1</td>\n",
       "      <td>1</td>\n",
       "      <td>0</td>\n",
       "      <td>0</td>\n",
       "      <td>1</td>\n",
       "      <td>1</td>\n",
       "      <td>0</td>\n",
       "      <td>1</td>\n",
       "      <td>0</td>\n",
       "      <td>1</td>\n",
       "      <td>0</td>\n",
       "      <td>1</td>\n",
       "      <td>0</td>\n",
       "      <td>1</td>\n",
       "      <td>0</td>\n",
       "      <td>Medium</td>\n",
       "    </tr>\n",
       "  </tbody>\n",
       "</table>\n",
       "</div>"
      ],
      "text/plain": [
       "   lotsize  bedrooms  bathrms  stories  garagepl  driveway_no  driveway_yes  \\\n",
       "0     5850         3        1        2         1            0             1   \n",
       "1     4000         2        1        1         0            0             1   \n",
       "2     3060         3        1        1         0            0             1   \n",
       "3     6650         3        1        2         0            0             1   \n",
       "4     6360         2        1        1         0            0             1   \n",
       "\n",
       "   recroom_no  recroom_yes  fullbase_no  fullbase_yes  gashw_no  gashw_yes  \\\n",
       "0           1            0            0             1         1          0   \n",
       "1           1            0            1             0         1          0   \n",
       "2           1            0            1             0         1          0   \n",
       "3           0            1            1             0         1          0   \n",
       "4           1            0            1             0         1          0   \n",
       "\n",
       "   airco_no  airco_yes  prefarea_no  prefarea_yes price_cat  \n",
       "0         1          0            1             0       Low  \n",
       "1         1          0            1             0       Low  \n",
       "2         1          0            1             0       Low  \n",
       "3         1          0            1             0    Medium  \n",
       "4         1          0            1             0    Medium  "
      ]
     },
     "execution_count": 209,
     "metadata": {},
     "output_type": "execute_result"
    }
   ],
   "source": [
    "data.head()"
   ]
  },
  {
   "cell_type": "code",
   "execution_count": null,
   "id": "84e822ef",
   "metadata": {},
   "outputs": [],
   "source": [
    "#7.2 Feature Selection\n",
    "\n",
    "#we analyze the impact of input feature values over the target feature values.\n",
    "#It is either done by performing statistical tests (Pearson, ANOVA, Chi-Square) or by using Random Forest.\n",
    "#Random forests are one of the most popular machine learning algorithms.\n",
    "#The provide a good predictive performance, low overfitting, and easy interpretability.\n",
    "#This interpretability is derived from the importance of each feature on the tree decision evaluated the reduction in impurity.\n",
    "#In other words, it is easy to compute how much each feature is contributing to the decision.\n",
    "#We will implement SelectFromModel() available in Sklearn which uses the base estimator to identify important features.\n",
    "#The importance of a feature is determined based on threshold (a measure to calculate feature importance).\n",
    "\n",
    "#To read\n",
    "\n",
    "#https://www.datatechnotes.com/2021/04/selectfrommodel-feature-selection.html\n",
    "#https://scikit-learn.org/stable/modules/generated/sklearn.feature_selection.SelectFromModel.html"
   ]
  },
  {
   "cell_type": "code",
   "execution_count": 210,
   "id": "0ed2dec0",
   "metadata": {},
   "outputs": [],
   "source": [
    "# Splitting data to dependent and independent variables\n",
    "\n",
    "X = data.drop('price_cat', axis = 1)\n",
    "y = data['price_cat']"
   ]
  },
  {
   "cell_type": "code",
   "execution_count": 145,
   "id": "ae4a3d7d",
   "metadata": {},
   "outputs": [
    {
     "data": {
      "text/html": [
       "<div>\n",
       "<style scoped>\n",
       "    .dataframe tbody tr th:only-of-type {\n",
       "        vertical-align: middle;\n",
       "    }\n",
       "\n",
       "    .dataframe tbody tr th {\n",
       "        vertical-align: top;\n",
       "    }\n",
       "\n",
       "    .dataframe thead th {\n",
       "        text-align: right;\n",
       "    }\n",
       "</style>\n",
       "<table border=\"1\" class=\"dataframe\">\n",
       "  <thead>\n",
       "    <tr style=\"text-align: right;\">\n",
       "      <th></th>\n",
       "      <th>lotsize</th>\n",
       "      <th>bedrooms</th>\n",
       "      <th>bathrms</th>\n",
       "      <th>stories</th>\n",
       "      <th>garagepl</th>\n",
       "      <th>driveway_no</th>\n",
       "      <th>driveway_yes</th>\n",
       "      <th>recroom_no</th>\n",
       "      <th>recroom_yes</th>\n",
       "      <th>fullbase_no</th>\n",
       "      <th>fullbase_yes</th>\n",
       "      <th>gashw_no</th>\n",
       "      <th>gashw_yes</th>\n",
       "      <th>airco_no</th>\n",
       "      <th>airco_yes</th>\n",
       "      <th>prefarea_no</th>\n",
       "      <th>prefarea_yes</th>\n",
       "    </tr>\n",
       "  </thead>\n",
       "  <tbody>\n",
       "    <tr>\n",
       "      <th>0</th>\n",
       "      <td>5850</td>\n",
       "      <td>3</td>\n",
       "      <td>1</td>\n",
       "      <td>2</td>\n",
       "      <td>1</td>\n",
       "      <td>0</td>\n",
       "      <td>1</td>\n",
       "      <td>1</td>\n",
       "      <td>0</td>\n",
       "      <td>0</td>\n",
       "      <td>1</td>\n",
       "      <td>1</td>\n",
       "      <td>0</td>\n",
       "      <td>1</td>\n",
       "      <td>0</td>\n",
       "      <td>1</td>\n",
       "      <td>0</td>\n",
       "    </tr>\n",
       "    <tr>\n",
       "      <th>1</th>\n",
       "      <td>4000</td>\n",
       "      <td>2</td>\n",
       "      <td>1</td>\n",
       "      <td>1</td>\n",
       "      <td>0</td>\n",
       "      <td>0</td>\n",
       "      <td>1</td>\n",
       "      <td>1</td>\n",
       "      <td>0</td>\n",
       "      <td>1</td>\n",
       "      <td>0</td>\n",
       "      <td>1</td>\n",
       "      <td>0</td>\n",
       "      <td>1</td>\n",
       "      <td>0</td>\n",
       "      <td>1</td>\n",
       "      <td>0</td>\n",
       "    </tr>\n",
       "    <tr>\n",
       "      <th>2</th>\n",
       "      <td>3060</td>\n",
       "      <td>3</td>\n",
       "      <td>1</td>\n",
       "      <td>1</td>\n",
       "      <td>0</td>\n",
       "      <td>0</td>\n",
       "      <td>1</td>\n",
       "      <td>1</td>\n",
       "      <td>0</td>\n",
       "      <td>1</td>\n",
       "      <td>0</td>\n",
       "      <td>1</td>\n",
       "      <td>0</td>\n",
       "      <td>1</td>\n",
       "      <td>0</td>\n",
       "      <td>1</td>\n",
       "      <td>0</td>\n",
       "    </tr>\n",
       "    <tr>\n",
       "      <th>3</th>\n",
       "      <td>6650</td>\n",
       "      <td>3</td>\n",
       "      <td>1</td>\n",
       "      <td>2</td>\n",
       "      <td>0</td>\n",
       "      <td>0</td>\n",
       "      <td>1</td>\n",
       "      <td>0</td>\n",
       "      <td>1</td>\n",
       "      <td>1</td>\n",
       "      <td>0</td>\n",
       "      <td>1</td>\n",
       "      <td>0</td>\n",
       "      <td>1</td>\n",
       "      <td>0</td>\n",
       "      <td>1</td>\n",
       "      <td>0</td>\n",
       "    </tr>\n",
       "    <tr>\n",
       "      <th>4</th>\n",
       "      <td>6360</td>\n",
       "      <td>2</td>\n",
       "      <td>1</td>\n",
       "      <td>1</td>\n",
       "      <td>0</td>\n",
       "      <td>0</td>\n",
       "      <td>1</td>\n",
       "      <td>1</td>\n",
       "      <td>0</td>\n",
       "      <td>1</td>\n",
       "      <td>0</td>\n",
       "      <td>1</td>\n",
       "      <td>0</td>\n",
       "      <td>1</td>\n",
       "      <td>0</td>\n",
       "      <td>1</td>\n",
       "      <td>0</td>\n",
       "    </tr>\n",
       "  </tbody>\n",
       "</table>\n",
       "</div>"
      ],
      "text/plain": [
       "   lotsize  bedrooms  bathrms  stories  garagepl  driveway_no  driveway_yes  \\\n",
       "0     5850         3        1        2         1            0             1   \n",
       "1     4000         2        1        1         0            0             1   \n",
       "2     3060         3        1        1         0            0             1   \n",
       "3     6650         3        1        2         0            0             1   \n",
       "4     6360         2        1        1         0            0             1   \n",
       "\n",
       "   recroom_no  recroom_yes  fullbase_no  fullbase_yes  gashw_no  gashw_yes  \\\n",
       "0           1            0            0             1         1          0   \n",
       "1           1            0            1             0         1          0   \n",
       "2           1            0            1             0         1          0   \n",
       "3           0            1            1             0         1          0   \n",
       "4           1            0            1             0         1          0   \n",
       "\n",
       "   airco_no  airco_yes  prefarea_no  prefarea_yes  \n",
       "0         1          0            1             0  \n",
       "1         1          0            1             0  \n",
       "2         1          0            1             0  \n",
       "3         1          0            1             0  \n",
       "4         1          0            1             0  "
      ]
     },
     "execution_count": 145,
     "metadata": {},
     "output_type": "execute_result"
    }
   ],
   "source": [
    "X.head()"
   ]
  },
  {
   "cell_type": "code",
   "execution_count": 211,
   "id": "0f409544",
   "metadata": {},
   "outputs": [
    {
     "data": {
      "text/plain": [
       "0       Low\n",
       "1       Low\n",
       "2       Low\n",
       "3    Medium\n",
       "4    Medium\n",
       "Name: price_cat, dtype: category\n",
       "Categories (3, object): ['Low' < 'Medium' < 'High']"
      ]
     },
     "execution_count": 211,
     "metadata": {},
     "output_type": "execute_result"
    }
   ],
   "source": [
    "y.head()"
   ]
  },
  {
   "cell_type": "code",
   "execution_count": 212,
   "id": "0d6e8a80",
   "metadata": {},
   "outputs": [
    {
     "data": {
      "text/html": [
       "<style>#sk-container-id-9 {color: black;background-color: white;}#sk-container-id-9 pre{padding: 0;}#sk-container-id-9 div.sk-toggleable {background-color: white;}#sk-container-id-9 label.sk-toggleable__label {cursor: pointer;display: block;width: 100%;margin-bottom: 0;padding: 0.3em;box-sizing: border-box;text-align: center;}#sk-container-id-9 label.sk-toggleable__label-arrow:before {content: \"▸\";float: left;margin-right: 0.25em;color: #696969;}#sk-container-id-9 label.sk-toggleable__label-arrow:hover:before {color: black;}#sk-container-id-9 div.sk-estimator:hover label.sk-toggleable__label-arrow:before {color: black;}#sk-container-id-9 div.sk-toggleable__content {max-height: 0;max-width: 0;overflow: hidden;text-align: left;background-color: #f0f8ff;}#sk-container-id-9 div.sk-toggleable__content pre {margin: 0.2em;color: black;border-radius: 0.25em;background-color: #f0f8ff;}#sk-container-id-9 input.sk-toggleable__control:checked~div.sk-toggleable__content {max-height: 200px;max-width: 100%;overflow: auto;}#sk-container-id-9 input.sk-toggleable__control:checked~label.sk-toggleable__label-arrow:before {content: \"▾\";}#sk-container-id-9 div.sk-estimator input.sk-toggleable__control:checked~label.sk-toggleable__label {background-color: #d4ebff;}#sk-container-id-9 div.sk-label input.sk-toggleable__control:checked~label.sk-toggleable__label {background-color: #d4ebff;}#sk-container-id-9 input.sk-hidden--visually {border: 0;clip: rect(1px 1px 1px 1px);clip: rect(1px, 1px, 1px, 1px);height: 1px;margin: -1px;overflow: hidden;padding: 0;position: absolute;width: 1px;}#sk-container-id-9 div.sk-estimator {font-family: monospace;background-color: #f0f8ff;border: 1px dotted black;border-radius: 0.25em;box-sizing: border-box;margin-bottom: 0.5em;}#sk-container-id-9 div.sk-estimator:hover {background-color: #d4ebff;}#sk-container-id-9 div.sk-parallel-item::after {content: \"\";width: 100%;border-bottom: 1px solid gray;flex-grow: 1;}#sk-container-id-9 div.sk-label:hover label.sk-toggleable__label {background-color: #d4ebff;}#sk-container-id-9 div.sk-serial::before {content: \"\";position: absolute;border-left: 1px solid gray;box-sizing: border-box;top: 0;bottom: 0;left: 50%;z-index: 0;}#sk-container-id-9 div.sk-serial {display: flex;flex-direction: column;align-items: center;background-color: white;padding-right: 0.2em;padding-left: 0.2em;position: relative;}#sk-container-id-9 div.sk-item {position: relative;z-index: 1;}#sk-container-id-9 div.sk-parallel {display: flex;align-items: stretch;justify-content: center;background-color: white;position: relative;}#sk-container-id-9 div.sk-item::before, #sk-container-id-9 div.sk-parallel-item::before {content: \"\";position: absolute;border-left: 1px solid gray;box-sizing: border-box;top: 0;bottom: 0;left: 50%;z-index: -1;}#sk-container-id-9 div.sk-parallel-item {display: flex;flex-direction: column;z-index: 1;position: relative;background-color: white;}#sk-container-id-9 div.sk-parallel-item:first-child::after {align-self: flex-end;width: 50%;}#sk-container-id-9 div.sk-parallel-item:last-child::after {align-self: flex-start;width: 50%;}#sk-container-id-9 div.sk-parallel-item:only-child::after {width: 0;}#sk-container-id-9 div.sk-dashed-wrapped {border: 1px dashed gray;margin: 0 0.4em 0.5em 0.4em;box-sizing: border-box;padding-bottom: 0.4em;background-color: white;}#sk-container-id-9 div.sk-label label {font-family: monospace;font-weight: bold;display: inline-block;line-height: 1.2em;}#sk-container-id-9 div.sk-label-container {text-align: center;}#sk-container-id-9 div.sk-container {/* jupyter's `normalize.less` sets `[hidden] { display: none; }` but bootstrap.min.css set `[hidden] { display: none !important; }` so we also need the `!important` here to be able to override the default hidden behavior on the sphinx rendered scikit-learn.org. See: https://github.com/scikit-learn/scikit-learn/issues/21755 */display: inline-block !important;position: relative;}#sk-container-id-9 div.sk-text-repr-fallback {display: none;}</style><div id=\"sk-container-id-9\" class=\"sk-top-container\"><div class=\"sk-text-repr-fallback\"><pre>SelectFromModel(estimator=RandomForestClassifier(n_jobs=-1, random_state=42))</pre><b>In a Jupyter environment, please rerun this cell to show the HTML representation or trust the notebook. <br />On GitHub, the HTML representation is unable to render, please try loading this page with nbviewer.org.</b></div><div class=\"sk-container\" hidden><div class=\"sk-item sk-dashed-wrapped\"><div class=\"sk-label-container\"><div class=\"sk-label sk-toggleable\"><input class=\"sk-toggleable__control sk-hidden--visually\" id=\"sk-estimator-id-19\" type=\"checkbox\" ><label for=\"sk-estimator-id-19\" class=\"sk-toggleable__label sk-toggleable__label-arrow\">SelectFromModel</label><div class=\"sk-toggleable__content\"><pre>SelectFromModel(estimator=RandomForestClassifier(n_jobs=-1, random_state=42))</pre></div></div></div><div class=\"sk-parallel\"><div class=\"sk-parallel-item\"><div class=\"sk-item\"><div class=\"sk-label-container\"><div class=\"sk-label sk-toggleable\"><input class=\"sk-toggleable__control sk-hidden--visually\" id=\"sk-estimator-id-20\" type=\"checkbox\" ><label for=\"sk-estimator-id-20\" class=\"sk-toggleable__label sk-toggleable__label-arrow\">estimator: RandomForestClassifier</label><div class=\"sk-toggleable__content\"><pre>RandomForestClassifier(n_jobs=-1, random_state=42)</pre></div></div></div><div class=\"sk-serial\"><div class=\"sk-item\"><div class=\"sk-estimator sk-toggleable\"><input class=\"sk-toggleable__control sk-hidden--visually\" id=\"sk-estimator-id-21\" type=\"checkbox\" ><label for=\"sk-estimator-id-21\" class=\"sk-toggleable__label sk-toggleable__label-arrow\">RandomForestClassifier</label><div class=\"sk-toggleable__content\"><pre>RandomForestClassifier(n_jobs=-1, random_state=42)</pre></div></div></div></div></div></div></div></div></div></div>"
      ],
      "text/plain": [
       "SelectFromModel(estimator=RandomForestClassifier(n_jobs=-1, random_state=42))"
      ]
     },
     "execution_count": 212,
     "metadata": {},
     "output_type": "execute_result"
    }
   ],
   "source": [
    "# 7.3 Ensemble Learning- \n",
    "\n",
    "#7.3.1 Bagging e.g. Randomforest- It buidls several instances of blackbox estimator on random subset of original training data.\n",
    "#It aggregate their individual prediction to build a final prediction.\n",
    "\n",
    "# Calling the estimator \n",
    "\n",
    "est = RandomForestClassifier(n_estimators=100, random_state=42, n_jobs=-1)\n",
    "\n",
    "#Calling the selector command- for feature selection in the model\n",
    "selector = SelectFromModel(estimator=est)\n",
    "\n",
    "#Fitting on dataset\n",
    "selector.fit(X,y)\n",
    "\n",
    "#-1 means using all processors. This means that the n_jobs parameter can be used to distribute and exploit all \n",
    "#the CPUs available in the local computer."
   ]
  },
  {
   "cell_type": "code",
   "execution_count": 213,
   "id": "49f2b58b",
   "metadata": {},
   "outputs": [
    {
     "name": "stdout",
     "output_type": "stream",
     "text": [
      "Total features selected are:  5\n",
      "Threshold set by model: 0.06\n",
      "Important Features: ['lotsize', 'bedrooms', 'bathrms', 'stories', 'garagepl']\n"
     ]
    }
   ],
   "source": [
    "#7.3.1.2 extracting list of important features- \n",
    "\n",
    "from sklearn.feature_selection import SelectFromModel \n",
    "\n",
    "selector_feat = X.columns[(selector.get_support())].tolist()\n",
    "\n",
    "# Show the number of important features selected by model\n",
    "print('Total features selected are: ',len(selector_feat))\n",
    "\n",
    "# Estimated by taking mean(default) of feature importance\n",
    "print('Threshold set by model:', np.round(selector.threshold_, decimals=2))\n",
    "print('Important Features:', selector_feat)\n"
   ]
  },
  {
   "cell_type": "code",
   "execution_count": 189,
   "id": "3da832f4",
   "metadata": {},
   "outputs": [
    {
     "data": {
      "text/html": [
       "<style>#sk-container-id-8 {color: black;background-color: white;}#sk-container-id-8 pre{padding: 0;}#sk-container-id-8 div.sk-toggleable {background-color: white;}#sk-container-id-8 label.sk-toggleable__label {cursor: pointer;display: block;width: 100%;margin-bottom: 0;padding: 0.3em;box-sizing: border-box;text-align: center;}#sk-container-id-8 label.sk-toggleable__label-arrow:before {content: \"▸\";float: left;margin-right: 0.25em;color: #696969;}#sk-container-id-8 label.sk-toggleable__label-arrow:hover:before {color: black;}#sk-container-id-8 div.sk-estimator:hover label.sk-toggleable__label-arrow:before {color: black;}#sk-container-id-8 div.sk-toggleable__content {max-height: 0;max-width: 0;overflow: hidden;text-align: left;background-color: #f0f8ff;}#sk-container-id-8 div.sk-toggleable__content pre {margin: 0.2em;color: black;border-radius: 0.25em;background-color: #f0f8ff;}#sk-container-id-8 input.sk-toggleable__control:checked~div.sk-toggleable__content {max-height: 200px;max-width: 100%;overflow: auto;}#sk-container-id-8 input.sk-toggleable__control:checked~label.sk-toggleable__label-arrow:before {content: \"▾\";}#sk-container-id-8 div.sk-estimator input.sk-toggleable__control:checked~label.sk-toggleable__label {background-color: #d4ebff;}#sk-container-id-8 div.sk-label input.sk-toggleable__control:checked~label.sk-toggleable__label {background-color: #d4ebff;}#sk-container-id-8 input.sk-hidden--visually {border: 0;clip: rect(1px 1px 1px 1px);clip: rect(1px, 1px, 1px, 1px);height: 1px;margin: -1px;overflow: hidden;padding: 0;position: absolute;width: 1px;}#sk-container-id-8 div.sk-estimator {font-family: monospace;background-color: #f0f8ff;border: 1px dotted black;border-radius: 0.25em;box-sizing: border-box;margin-bottom: 0.5em;}#sk-container-id-8 div.sk-estimator:hover {background-color: #d4ebff;}#sk-container-id-8 div.sk-parallel-item::after {content: \"\";width: 100%;border-bottom: 1px solid gray;flex-grow: 1;}#sk-container-id-8 div.sk-label:hover label.sk-toggleable__label {background-color: #d4ebff;}#sk-container-id-8 div.sk-serial::before {content: \"\";position: absolute;border-left: 1px solid gray;box-sizing: border-box;top: 0;bottom: 0;left: 50%;z-index: 0;}#sk-container-id-8 div.sk-serial {display: flex;flex-direction: column;align-items: center;background-color: white;padding-right: 0.2em;padding-left: 0.2em;position: relative;}#sk-container-id-8 div.sk-item {position: relative;z-index: 1;}#sk-container-id-8 div.sk-parallel {display: flex;align-items: stretch;justify-content: center;background-color: white;position: relative;}#sk-container-id-8 div.sk-item::before, #sk-container-id-8 div.sk-parallel-item::before {content: \"\";position: absolute;border-left: 1px solid gray;box-sizing: border-box;top: 0;bottom: 0;left: 50%;z-index: -1;}#sk-container-id-8 div.sk-parallel-item {display: flex;flex-direction: column;z-index: 1;position: relative;background-color: white;}#sk-container-id-8 div.sk-parallel-item:first-child::after {align-self: flex-end;width: 50%;}#sk-container-id-8 div.sk-parallel-item:last-child::after {align-self: flex-start;width: 50%;}#sk-container-id-8 div.sk-parallel-item:only-child::after {width: 0;}#sk-container-id-8 div.sk-dashed-wrapped {border: 1px dashed gray;margin: 0 0.4em 0.5em 0.4em;box-sizing: border-box;padding-bottom: 0.4em;background-color: white;}#sk-container-id-8 div.sk-label label {font-family: monospace;font-weight: bold;display: inline-block;line-height: 1.2em;}#sk-container-id-8 div.sk-label-container {text-align: center;}#sk-container-id-8 div.sk-container {/* jupyter's `normalize.less` sets `[hidden] { display: none; }` but bootstrap.min.css set `[hidden] { display: none !important; }` so we also need the `!important` here to be able to override the default hidden behavior on the sphinx rendered scikit-learn.org. See: https://github.com/scikit-learn/scikit-learn/issues/21755 */display: inline-block !important;position: relative;}#sk-container-id-8 div.sk-text-repr-fallback {display: none;}</style><div id=\"sk-container-id-8\" class=\"sk-top-container\"><div class=\"sk-text-repr-fallback\"><pre>RandomForestClassifier(n_jobs=-1, random_state=42)</pre><b>In a Jupyter environment, please rerun this cell to show the HTML representation or trust the notebook. <br />On GitHub, the HTML representation is unable to render, please try loading this page with nbviewer.org.</b></div><div class=\"sk-container\" hidden><div class=\"sk-item\"><div class=\"sk-estimator sk-toggleable\"><input class=\"sk-toggleable__control sk-hidden--visually\" id=\"sk-estimator-id-18\" type=\"checkbox\" checked><label for=\"sk-estimator-id-18\" class=\"sk-toggleable__label sk-toggleable__label-arrow\">RandomForestClassifier</label><div class=\"sk-toggleable__content\"><pre>RandomForestClassifier(n_jobs=-1, random_state=42)</pre></div></div></div></div></div>"
      ],
      "text/plain": [
       "RandomForestClassifier(n_jobs=-1, random_state=42)"
      ]
     },
     "execution_count": 189,
     "metadata": {},
     "output_type": "execute_result"
    }
   ],
   "source": [
    "selector.estimator"
   ]
  },
  {
   "cell_type": "code",
   "execution_count": null,
   "id": "20fb5d5e",
   "metadata": {},
   "outputs": [],
   "source": [
    "#https://www.scikit-yb.org/en/latest/quickstart.html\n",
    "\n",
    "#https://www.scikit-yb.org/en/latest/api/model_selection/importances.html"
   ]
  },
  {
   "cell_type": "code",
   "execution_count": 154,
   "id": "ad2f3f98",
   "metadata": {},
   "outputs": [
    {
     "ename": "ModuleNotFoundError",
     "evalue": "No module named 'yellowbrick'",
     "output_type": "error",
     "traceback": [
      "\u001b[0;31m---------------------------------------------------------------------------\u001b[0m",
      "\u001b[0;31mModuleNotFoundError\u001b[0m                       Traceback (most recent call last)",
      "Input \u001b[0;32mIn [154]\u001b[0m, in \u001b[0;36m<cell line: 1>\u001b[0;34m()\u001b[0m\n\u001b[0;32m----> 1\u001b[0m \u001b[38;5;28;01mfrom\u001b[39;00m \u001b[38;5;21;01myellowbrick\u001b[39;00m\u001b[38;5;21;01m.\u001b[39;00m\u001b[38;5;21;01mmodel_selection\u001b[39;00m \u001b[38;5;28;01mimport\u001b[39;00m FeatureImportances\n\u001b[1;32m      3\u001b[0m \u001b[38;5;66;03m#calling the featureimportances \u001b[39;00m\n\u001b[1;32m      4\u001b[0m fi \u001b[38;5;241m=\u001b[39m FeatureImportances(selector\u001b[38;5;241m.\u001b[39mestimator)\n",
      "\u001b[0;31mModuleNotFoundError\u001b[0m: No module named 'yellowbrick'"
     ]
    }
   ],
   "source": [
    "#7.3.1.3- Other method of feature selection\n",
    "\n",
    "from yellowbrick.model_selection import FeatureImportances\n",
    "\n",
    "#calling the featureimportances \n",
    "fi = FeatureImportances(selector.estimator)\n",
    "#fitting on dataset\n",
    "fi.fit(X,y)\n",
    "plt.xlabel(\"Feature Importances\")\n",
    "plt.ylabel(\"Importances\")\n",
    "plt.show()\n"
   ]
  },
  {
   "cell_type": "code",
   "execution_count": 72,
   "id": "02b9a495",
   "metadata": {},
   "outputs": [],
   "source": [
    "##7.3.1.3 Third method of feature selection RFE- Recursive Feature Elimination"
   ]
  },
  {
   "cell_type": "code",
   "execution_count": 155,
   "id": "a9b56ff1",
   "metadata": {},
   "outputs": [],
   "source": [
    "#Recursive Feature Elimination offers a compelling solution, and RFE iteratively removes less important \n",
    "#features, creating a subset that maximizes predictive accuracy.\n",
    "\n",
    "#from sklearn.feature_selection import RFE\n",
    "#from sklearn.linear_model import LogisticRegression\n"
   ]
  },
  {
   "cell_type": "code",
   "execution_count": 156,
   "id": "5fe875b9",
   "metadata": {},
   "outputs": [
    {
     "data": {
      "text/html": [
       "<style>#sk-container-id-6 {color: black;background-color: white;}#sk-container-id-6 pre{padding: 0;}#sk-container-id-6 div.sk-toggleable {background-color: white;}#sk-container-id-6 label.sk-toggleable__label {cursor: pointer;display: block;width: 100%;margin-bottom: 0;padding: 0.3em;box-sizing: border-box;text-align: center;}#sk-container-id-6 label.sk-toggleable__label-arrow:before {content: \"▸\";float: left;margin-right: 0.25em;color: #696969;}#sk-container-id-6 label.sk-toggleable__label-arrow:hover:before {color: black;}#sk-container-id-6 div.sk-estimator:hover label.sk-toggleable__label-arrow:before {color: black;}#sk-container-id-6 div.sk-toggleable__content {max-height: 0;max-width: 0;overflow: hidden;text-align: left;background-color: #f0f8ff;}#sk-container-id-6 div.sk-toggleable__content pre {margin: 0.2em;color: black;border-radius: 0.25em;background-color: #f0f8ff;}#sk-container-id-6 input.sk-toggleable__control:checked~div.sk-toggleable__content {max-height: 200px;max-width: 100%;overflow: auto;}#sk-container-id-6 input.sk-toggleable__control:checked~label.sk-toggleable__label-arrow:before {content: \"▾\";}#sk-container-id-6 div.sk-estimator input.sk-toggleable__control:checked~label.sk-toggleable__label {background-color: #d4ebff;}#sk-container-id-6 div.sk-label input.sk-toggleable__control:checked~label.sk-toggleable__label {background-color: #d4ebff;}#sk-container-id-6 input.sk-hidden--visually {border: 0;clip: rect(1px 1px 1px 1px);clip: rect(1px, 1px, 1px, 1px);height: 1px;margin: -1px;overflow: hidden;padding: 0;position: absolute;width: 1px;}#sk-container-id-6 div.sk-estimator {font-family: monospace;background-color: #f0f8ff;border: 1px dotted black;border-radius: 0.25em;box-sizing: border-box;margin-bottom: 0.5em;}#sk-container-id-6 div.sk-estimator:hover {background-color: #d4ebff;}#sk-container-id-6 div.sk-parallel-item::after {content: \"\";width: 100%;border-bottom: 1px solid gray;flex-grow: 1;}#sk-container-id-6 div.sk-label:hover label.sk-toggleable__label {background-color: #d4ebff;}#sk-container-id-6 div.sk-serial::before {content: \"\";position: absolute;border-left: 1px solid gray;box-sizing: border-box;top: 0;bottom: 0;left: 50%;z-index: 0;}#sk-container-id-6 div.sk-serial {display: flex;flex-direction: column;align-items: center;background-color: white;padding-right: 0.2em;padding-left: 0.2em;position: relative;}#sk-container-id-6 div.sk-item {position: relative;z-index: 1;}#sk-container-id-6 div.sk-parallel {display: flex;align-items: stretch;justify-content: center;background-color: white;position: relative;}#sk-container-id-6 div.sk-item::before, #sk-container-id-6 div.sk-parallel-item::before {content: \"\";position: absolute;border-left: 1px solid gray;box-sizing: border-box;top: 0;bottom: 0;left: 50%;z-index: -1;}#sk-container-id-6 div.sk-parallel-item {display: flex;flex-direction: column;z-index: 1;position: relative;background-color: white;}#sk-container-id-6 div.sk-parallel-item:first-child::after {align-self: flex-end;width: 50%;}#sk-container-id-6 div.sk-parallel-item:last-child::after {align-self: flex-start;width: 50%;}#sk-container-id-6 div.sk-parallel-item:only-child::after {width: 0;}#sk-container-id-6 div.sk-dashed-wrapped {border: 1px dashed gray;margin: 0 0.4em 0.5em 0.4em;box-sizing: border-box;padding-bottom: 0.4em;background-color: white;}#sk-container-id-6 div.sk-label label {font-family: monospace;font-weight: bold;display: inline-block;line-height: 1.2em;}#sk-container-id-6 div.sk-label-container {text-align: center;}#sk-container-id-6 div.sk-container {/* jupyter's `normalize.less` sets `[hidden] { display: none; }` but bootstrap.min.css set `[hidden] { display: none !important; }` so we also need the `!important` here to be able to override the default hidden behavior on the sphinx rendered scikit-learn.org. See: https://github.com/scikit-learn/scikit-learn/issues/21755 */display: inline-block !important;position: relative;}#sk-container-id-6 div.sk-text-repr-fallback {display: none;}</style><div id=\"sk-container-id-6\" class=\"sk-top-container\"><div class=\"sk-text-repr-fallback\"><pre>RFE(estimator=LogisticRegression(), n_features_to_select=5)</pre><b>In a Jupyter environment, please rerun this cell to show the HTML representation or trust the notebook. <br />On GitHub, the HTML representation is unable to render, please try loading this page with nbviewer.org.</b></div><div class=\"sk-container\" hidden><div class=\"sk-item sk-dashed-wrapped\"><div class=\"sk-label-container\"><div class=\"sk-label sk-toggleable\"><input class=\"sk-toggleable__control sk-hidden--visually\" id=\"sk-estimator-id-12\" type=\"checkbox\" ><label for=\"sk-estimator-id-12\" class=\"sk-toggleable__label sk-toggleable__label-arrow\">RFE</label><div class=\"sk-toggleable__content\"><pre>RFE(estimator=LogisticRegression(), n_features_to_select=5)</pre></div></div></div><div class=\"sk-parallel\"><div class=\"sk-parallel-item\"><div class=\"sk-item\"><div class=\"sk-label-container\"><div class=\"sk-label sk-toggleable\"><input class=\"sk-toggleable__control sk-hidden--visually\" id=\"sk-estimator-id-13\" type=\"checkbox\" ><label for=\"sk-estimator-id-13\" class=\"sk-toggleable__label sk-toggleable__label-arrow\">estimator: LogisticRegression</label><div class=\"sk-toggleable__content\"><pre>LogisticRegression()</pre></div></div></div><div class=\"sk-serial\"><div class=\"sk-item\"><div class=\"sk-estimator sk-toggleable\"><input class=\"sk-toggleable__control sk-hidden--visually\" id=\"sk-estimator-id-14\" type=\"checkbox\" ><label for=\"sk-estimator-id-14\" class=\"sk-toggleable__label sk-toggleable__label-arrow\">LogisticRegression</label><div class=\"sk-toggleable__content\"><pre>LogisticRegression()</pre></div></div></div></div></div></div></div></div></div></div>"
      ],
      "text/plain": [
       "RFE(estimator=LogisticRegression(), n_features_to_select=5)"
      ]
     },
     "execution_count": 156,
     "metadata": {},
     "output_type": "execute_result"
    }
   ],
   "source": [
    "#rfe_selector = RFE(estimator=LogisticRegression(),\n",
    "                  n_features_to_select=5,\n",
    "                  step=1)\n",
    "\n",
    "#rfe_selector.fit(X,y)"
   ]
  },
  {
   "cell_type": "code",
   "execution_count": 157,
   "id": "dd7be371",
   "metadata": {},
   "outputs": [
    {
     "data": {
      "text/plain": [
       "array([False, False,  True, False, False, False,  True, False, False,\n",
       "       False, False,  True, False,  True, False, False,  True])"
      ]
     },
     "execution_count": 157,
     "metadata": {},
     "output_type": "execute_result"
    }
   ],
   "source": [
    "#rfe_selector.get_support()"
   ]
  },
  {
   "cell_type": "code",
   "execution_count": 158,
   "id": "43b078a8",
   "metadata": {},
   "outputs": [
    {
     "data": {
      "text/plain": [
       "Index(['lotsize', 'bedrooms', 'bathrms', 'stories', 'garagepl', 'driveway_no',\n",
       "       'driveway_yes', 'recroom_no', 'recroom_yes', 'fullbase_no',\n",
       "       'fullbase_yes', 'gashw_no', 'gashw_yes', 'airco_no', 'airco_yes',\n",
       "       'prefarea_no', 'prefarea_yes'],\n",
       "      dtype='object')"
      ]
     },
     "execution_count": 158,
     "metadata": {},
     "output_type": "execute_result"
    }
   ],
   "source": [
    "#X.columns"
   ]
  },
  {
   "cell_type": "code",
   "execution_count": 159,
   "id": "79199cc6",
   "metadata": {},
   "outputs": [
    {
     "data": {
      "text/plain": [
       "array([13,  5,  1, 10,  9,  3,  1,  2,  8, 11, 12,  1,  7,  1,  4,  6,  1])"
      ]
     },
     "execution_count": 159,
     "metadata": {},
     "output_type": "execute_result"
    }
   ],
   "source": [
    "#rfe_selector.ranking_"
   ]
  },
  {
   "cell_type": "code",
   "execution_count": 160,
   "id": "bfa93f44",
   "metadata": {},
   "outputs": [
    {
     "data": {
      "text/plain": [
       "['lotsize',\n",
       " 'bedrooms',\n",
       " 'bathrms',\n",
       " 'stories',\n",
       " 'garagepl',\n",
       " 'driveway_no',\n",
       " 'driveway_yes',\n",
       " 'recroom_no',\n",
       " 'recroom_yes',\n",
       " 'fullbase_no',\n",
       " 'fullbase_yes',\n",
       " 'gashw_no',\n",
       " 'gashw_yes',\n",
       " 'airco_no',\n",
       " 'airco_yes',\n",
       " 'prefarea_no',\n",
       " 'prefarea_yes']"
      ]
     },
     "execution_count": 160,
     "metadata": {},
     "output_type": "execute_result"
    }
   ],
   "source": [
    "#list(X.columns)"
   ]
  },
  {
   "cell_type": "code",
   "execution_count": 161,
   "id": "d64a6444",
   "metadata": {},
   "outputs": [
    {
     "data": {
      "text/plain": [
       "['bathrms', 'driveway_yes', 'gashw_no', 'airco_no', 'prefarea_yes']"
      ]
     },
     "execution_count": 161,
     "metadata": {},
     "output_type": "execute_result"
    }
   ],
   "source": [
    "#selected_features_rfe= X.columns[rfe_selector.support_].to_list()\n",
    "\n",
    "#selected_features_rfe"
   ]
  },
  {
   "cell_type": "code",
   "execution_count": 80,
   "id": "bbfb9a90",
   "metadata": {},
   "outputs": [
    {
     "data": {
      "text/plain": [
       "(545, 17)"
      ]
     },
     "execution_count": 80,
     "metadata": {},
     "output_type": "execute_result"
    }
   ],
   "source": [
    "#X.shape"
   ]
  },
  {
   "cell_type": "code",
   "execution_count": 190,
   "id": "8533d637",
   "metadata": {},
   "outputs": [],
   "source": [
    "#7.4 Splitting the data into test and train\n",
    "\n",
    "X_train, X_test, y_train, y_test = train_test_split(X,y, test_size=0.2, random_state=42 )"
   ]
  },
  {
   "cell_type": "code",
   "execution_count": 191,
   "id": "0c800453",
   "metadata": {},
   "outputs": [
    {
     "data": {
      "text/plain": [
       "((436, 17), (436,), (109, 17), (109,))"
      ]
     },
     "execution_count": 191,
     "metadata": {},
     "output_type": "execute_result"
    }
   ],
   "source": [
    "X_train.shape, y_train.shape, X_test.shape, y_test.shape"
   ]
  },
  {
   "cell_type": "code",
   "execution_count": null,
   "id": "a493a346",
   "metadata": {},
   "outputs": [],
   "source": [
    "#8. Model Developmemnt and Evaluation\n",
    "\n",
    "#In this section we will develop variety of models such as:\n",
    "#Logistic Regression\tDecision Tree\tRandom Forest\tAdaptive Boosting\tGradient Boosting\tVoting Classifier\n",
    "#For estimating the performance of the model we will be using accuracy as a metric.\n",
    "#Considering the complexity of data, we can run a loop over multiple classifiers and estimate the accuracy of the model.\n",
    "#In real world, one model should be run at a time to see the performance"
   ]
  },
  {
   "cell_type": "code",
   "execution_count": 192,
   "id": "ed9fd659",
   "metadata": {},
   "outputs": [],
   "source": [
    "#8.1 #Initialize Classifier\n",
    "\n",
    "log_clf= LogisticRegression(random_state=42, class_weight='balanced')\n",
    "sv_clf= SVC(random_state=42, class_weight='balanced',probability=True)\n",
    "dt_clf= DecisionTreeClassifier(random_state=42, class_weight='balanced')\n",
    "rf_clf = RandomForestClassifier(n_estimators=500, random_state=42, class_weight='balanced',n_jobs=-1)\n",
    "bag_clf= BaggingClassifier(base_estimator=dt_clf, n_estimators=500, n_jobs=-1, random_state=42)\n",
    "voting_clf = VotingClassifier(estimators=[('lr', log_clf), ('rf',rf_clf),('dt', dt_clf),('svc', sv_clf)], voting='soft')\n",
    "ada_clf= AdaBoostClassifier(base_estimator=dt_clf,n_estimators=500,random_state=42)\n",
    "gb_clf= GradientBoostingClassifier(n_estimators=500,random_state=42)"
   ]
  },
  {
   "cell_type": "code",
   "execution_count": 193,
   "id": "7239d87b",
   "metadata": {},
   "outputs": [
    {
     "name": "stdout",
     "output_type": "stream",
     "text": [
      "Success!\n",
      "CPU times: user 1.95 s, sys: 368 ms, total: 2.32 s\n",
      "Wall time: 3.23 s\n"
     ]
    }
   ],
   "source": [
    "%%time\n",
    "# Intialize a list of classifier objects\n",
    "clf_list = [log_clf, sv_clf, dt_clf, bag_clf, voting_clf, rf_clf, ada_clf, gb_clf]\n",
    "\n",
    "# Create an empty list to append scores and classifier name\n",
    "train_scores = []\n",
    "test_scores = []\n",
    "clf_names = []\n",
    "\n",
    "# Train classifier over train data and append scores to empty list\n",
    "for clf in clf_list:\n",
    "  # Fit the train data over the classifier object\n",
    "  clf.fit(X_train, y_train)\n",
    "\n",
    "  # Append train and test score to the empty list\n",
    "  train_scores.append(np.round(a=clf.score(X_train, y_train), decimals=2))\n",
    "  test_scores.append(np.round(a=clf.score(X_test, y_test), decimals=2))\n",
    "  clf_names.append(clf.__class__.__name__)\n",
    "\n",
    "print('Success!')\n"
   ]
  },
  {
   "cell_type": "code",
   "execution_count": 194,
   "id": "8b827f57",
   "metadata": {},
   "outputs": [
    {
     "data": {
      "text/html": [
       "<div>\n",
       "<style scoped>\n",
       "    .dataframe tbody tr th:only-of-type {\n",
       "        vertical-align: middle;\n",
       "    }\n",
       "\n",
       "    .dataframe tbody tr th {\n",
       "        vertical-align: top;\n",
       "    }\n",
       "\n",
       "    .dataframe thead th {\n",
       "        text-align: right;\n",
       "    }\n",
       "</style>\n",
       "<table border=\"1\" class=\"dataframe\">\n",
       "  <thead>\n",
       "    <tr style=\"text-align: right;\">\n",
       "      <th></th>\n",
       "      <th>LogisticRegression</th>\n",
       "      <th>SVC</th>\n",
       "      <th>DecisionTreeClassifier</th>\n",
       "      <th>BaggingClassifier</th>\n",
       "      <th>VotingClassifier</th>\n",
       "      <th>RandomForestClassifier</th>\n",
       "      <th>AdaBoostClassifier</th>\n",
       "      <th>GradientBoostingClassifier</th>\n",
       "    </tr>\n",
       "  </thead>\n",
       "  <tbody>\n",
       "    <tr>\n",
       "      <th>Train Accuracy</th>\n",
       "      <td>0.70</td>\n",
       "      <td>0.57</td>\n",
       "      <td>0.99</td>\n",
       "      <td>0.99</td>\n",
       "      <td>0.99</td>\n",
       "      <td>0.99</td>\n",
       "      <td>0.99</td>\n",
       "      <td>0.99</td>\n",
       "    </tr>\n",
       "    <tr>\n",
       "      <th>Test Accuracy</th>\n",
       "      <td>0.60</td>\n",
       "      <td>0.55</td>\n",
       "      <td>0.66</td>\n",
       "      <td>0.65</td>\n",
       "      <td>0.66</td>\n",
       "      <td>0.61</td>\n",
       "      <td>0.56</td>\n",
       "      <td>0.60</td>\n",
       "    </tr>\n",
       "  </tbody>\n",
       "</table>\n",
       "</div>"
      ],
      "text/plain": [
       "                LogisticRegression  SVC  DecisionTreeClassifier  \\\n",
       "Train Accuracy                0.70 0.57                    0.99   \n",
       "Test Accuracy                 0.60 0.55                    0.66   \n",
       "\n",
       "                BaggingClassifier  VotingClassifier  RandomForestClassifier  \\\n",
       "Train Accuracy               0.99              0.99                    0.99   \n",
       "Test Accuracy                0.65              0.66                    0.61   \n",
       "\n",
       "                AdaBoostClassifier  GradientBoostingClassifier  \n",
       "Train Accuracy                0.99                        0.99  \n",
       "Test Accuracy                 0.56                        0.60  "
      ]
     },
     "execution_count": 194,
     "metadata": {},
     "output_type": "execute_result"
    }
   ],
   "source": [
    "# Create an accuracy dataframe from scores and names list\n",
    "accuracy_frame = pd.DataFrame(data={'Train Accuracy': train_scores, 'Test Accuracy': test_scores}, index=clf_names)\n",
    "\n",
    "# View the accuracy of all the classifiers\n",
    "accuracy_frame.transpose()\n",
    "\n",
    "#Observation\n",
    "\n",
    "#In all the models the difference in train and test accuracy is more than 5%, other than SVC.\n",
    "#This may be due to the small sample of the dataset"
   ]
  },
  {
   "cell_type": "code",
   "execution_count": null,
   "id": "3f6579ca",
   "metadata": {},
   "outputs": [],
   "source": [
    "https://scikit-learn.org/stable/modules/generated/sklearn.ensemble.BaggingClassifier.html\n",
    "\n",
    "https://scikit-learn.org/stable/modules/generated/sklearn.ensemble.VotingClassifier.html\n",
    "    "
   ]
  },
  {
   "cell_type": "code",
   "execution_count": null,
   "id": "5636fc06",
   "metadata": {},
   "outputs": [],
   "source": [
    "#https://scikit-learn.org/stable/modules/generated/sklearn.ensemble.AdaBoostClassifier.html"
   ]
  },
  {
   "cell_type": "code",
   "execution_count": null,
   "id": "444d8c19",
   "metadata": {},
   "outputs": [],
   "source": [
    "#https://scikit-learn.org/stable/modules/generated/sklearn.ensemble.GradientBoostingClassifier.html"
   ]
  },
  {
   "cell_type": "code",
   "execution_count": null,
   "id": "b40dfca6",
   "metadata": {},
   "outputs": [],
   "source": [
    "#8.2 Stacking- method of combining estimators to reduce biases\n",
    "\n",
    "\n",
    "#https://scikit-learn.org/stable/modules/generated/sklearn.neighbors.KNeighborsClassifier.html\n",
    "\n",
    "\n",
    "#In this section we will develop stacking classifier with the help of different estimators such as:\n",
    "#Logistic Regression\n",
    "#Support Vector Classifier\n",
    "#K Nearest Neighbor Classifier\n",
    "#Random Forest Classifier\n",
    "#Gradient Boosting Classifier\n",
    "#For estimating the performance of the model we will be using accuracy as a metric."
   ]
  },
  {
   "cell_type": "code",
   "execution_count": 214,
   "id": "99c2367c",
   "metadata": {},
   "outputs": [
    {
     "name": "stderr",
     "output_type": "stream",
     "text": [
      "/opt/homebrew/anaconda3/lib/python3.9/site-packages/sklearn/linear_model/_logistic.py:444: ConvergenceWarning: lbfgs failed to converge (status=1):\n",
      "STOP: TOTAL NO. of ITERATIONS REACHED LIMIT.\n",
      "\n",
      "Increase the number of iterations (max_iter) or scale the data as shown in:\n",
      "    https://scikit-learn.org/stable/modules/preprocessing.html\n",
      "Please also refer to the documentation for alternative solver options:\n",
      "    https://scikit-learn.org/stable/modules/linear_model.html#logistic-regression\n",
      "  n_iter_i = _check_optimize_result(\n",
      "/opt/homebrew/anaconda3/lib/python3.9/site-packages/sklearn/linear_model/_logistic.py:444: ConvergenceWarning: lbfgs failed to converge (status=1):\n",
      "STOP: TOTAL NO. of ITERATIONS REACHED LIMIT.\n",
      "\n",
      "Increase the number of iterations (max_iter) or scale the data as shown in:\n",
      "    https://scikit-learn.org/stable/modules/preprocessing.html\n",
      "Please also refer to the documentation for alternative solver options:\n",
      "    https://scikit-learn.org/stable/modules/linear_model.html#logistic-regression\n",
      "  n_iter_i = _check_optimize_result(\n",
      "/opt/homebrew/anaconda3/lib/python3.9/site-packages/sklearn/linear_model/_logistic.py:444: ConvergenceWarning: lbfgs failed to converge (status=1):\n",
      "STOP: TOTAL NO. of ITERATIONS REACHED LIMIT.\n",
      "\n",
      "Increase the number of iterations (max_iter) or scale the data as shown in:\n",
      "    https://scikit-learn.org/stable/modules/preprocessing.html\n",
      "Please also refer to the documentation for alternative solver options:\n",
      "    https://scikit-learn.org/stable/modules/linear_model.html#logistic-regression\n",
      "  n_iter_i = _check_optimize_result(\n",
      "/opt/homebrew/anaconda3/lib/python3.9/site-packages/sklearn/linear_model/_logistic.py:444: ConvergenceWarning: lbfgs failed to converge (status=1):\n",
      "STOP: TOTAL NO. of ITERATIONS REACHED LIMIT.\n",
      "\n",
      "Increase the number of iterations (max_iter) or scale the data as shown in:\n",
      "    https://scikit-learn.org/stable/modules/preprocessing.html\n",
      "Please also refer to the documentation for alternative solver options:\n",
      "    https://scikit-learn.org/stable/modules/linear_model.html#logistic-regression\n",
      "  n_iter_i = _check_optimize_result(\n",
      "/opt/homebrew/anaconda3/lib/python3.9/site-packages/sklearn/linear_model/_logistic.py:444: ConvergenceWarning: lbfgs failed to converge (status=1):\n",
      "STOP: TOTAL NO. of ITERATIONS REACHED LIMIT.\n",
      "\n",
      "Increase the number of iterations (max_iter) or scale the data as shown in:\n",
      "    https://scikit-learn.org/stable/modules/preprocessing.html\n",
      "Please also refer to the documentation for alternative solver options:\n",
      "    https://scikit-learn.org/stable/modules/linear_model.html#logistic-regression\n",
      "  n_iter_i = _check_optimize_result(\n"
     ]
    },
    {
     "name": "stdout",
     "output_type": "stream",
     "text": [
      "Accuracy on Train data: 0.89\n",
      "Accuracy on Test data: 0.61\n",
      "CPU times: user 410 ms, sys: 510 ms, total: 919 ms\n",
      "Wall time: 2 s\n"
     ]
    }
   ],
   "source": [
    "%%time\n",
    "# Creating a collection of estimators\n",
    "estimators = [('logistic', LogisticRegression(class_weight='balanced', random_state=42, n_jobs=-1)), \n",
    "              ('svc', SVC(class_weight='balanced', random_state=42, probability=True)),\n",
    "              ('knn', KNeighborsClassifier(n_jobs=-1)),\n",
    "              ('randomforest', RandomForestClassifier(class_weight='balanced', n_jobs=-1, random_state=42))]\n",
    "\n",
    "# Setting StackingClassifier with initiated estimators and a final estimator\n",
    "stack_clf = StackingClassifier(estimators=estimators, \n",
    "                               final_estimator=GradientBoostingClassifier(random_state=42), \n",
    "                               n_jobs=-1, cv=5)\n",
    "stack_clf.fit(X_train, y_train)\n",
    "\n",
    "# Display the accuracy on train data and test data\n",
    "print('Accuracy on Train data:', np.round(a=stack_clf.score(X_train, y_train), decimals=2))\n",
    "print('Accuracy on Test data:', np.round(a=stack_clf.score(X_test, y_test), decimals=2))           "
   ]
  },
  {
   "cell_type": "code",
   "execution_count": null,
   "id": "c583b181",
   "metadata": {},
   "outputs": [],
   "source": [
    "#The project is still trying to give best model using Stacking. Final Model is awaited"
   ]
  }
 ],
 "metadata": {
  "kernelspec": {
   "display_name": "Python 3 (ipykernel)",
   "language": "python",
   "name": "python3"
  },
  "language_info": {
   "codemirror_mode": {
    "name": "ipython",
    "version": 3
   },
   "file_extension": ".py",
   "mimetype": "text/x-python",
   "name": "python",
   "nbconvert_exporter": "python",
   "pygments_lexer": "ipython3",
   "version": "3.9.13"
  }
 },
 "nbformat": 4,
 "nbformat_minor": 5
}
